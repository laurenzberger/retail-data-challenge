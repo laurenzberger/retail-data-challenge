{
  "nbformat": 4,
  "nbformat_minor": 0,
  "metadata": {
    "colab": {
      "name": "RetailRegressionChallenge.ipynb",
      "version": "0.3.2",
      "provenance": [],
      "collapsed_sections": [],
      "include_colab_link": true
    },
    "kernelspec": {
      "name": "python3",
      "display_name": "Python 3"
    }
  },
  "cells": [
    {
      "cell_type": "markdown",
      "metadata": {
        "id": "view-in-github",
        "colab_type": "text"
      },
      "source": [
        "<a href=\"https://colab.research.google.com/github/laurenzberger/retail-data-challenge/blob/master/RetailRegressionChallenge.ipynb\" target=\"_parent\"><img src=\"https://colab.research.google.com/assets/colab-badge.svg\" alt=\"Open In Colab\"/></a>"
      ]
    },
    {
      "metadata": {
        "id": "OKFJqGglL31F",
        "colab_type": "text"
      },
      "cell_type": "markdown",
      "source": [
        "# Kaggle Rossmann Challenge Prep\n",
        "\n",
        "## Dataset \n",
        "\n",
        "https://www.kaggle.com/c/rossmann-store-sales/data\n",
        "\n",
        "## Usefull Inspiration\n",
        "\n",
        "https://github.com/agostontorok/KaggleRossmannChallenge/blob/master/MeetupPrez.ipynb\n",
        "\n",
        "https://github.com/deadskull7/Rossmann-Store-Sales-Predictions/blob/master/Rossmann_Store_Sales.ipynb\n",
        "\n",
        "https://github.com/elena-petrova/rossmann_TSA_forecasts/blob/master/Rossmann_Sales.ipynb\n",
        "\n",
        "https://github.com/JohanManders/ROSSMANN-KAGGLE/blob/master/ROSSMANN%20STORE%20SALES%20COMPETITION%20KAGGLE.ipynb"
      ]
    },
    {
      "metadata": {
        "id": "rsDxft-R_zGz",
        "colab_type": "text"
      },
      "cell_type": "markdown",
      "source": [
        "## Get Data from Github repo"
      ]
    },
    {
      "metadata": {
        "id": "bHBXcaZh3cpW",
        "colab_type": "code",
        "colab": {}
      },
      "cell_type": "code",
      "source": [
        "#download dataset from git repo if not there yet\n",
        "%%bash\n",
        "[ ! -d \"/content/retail-data-challenge\" ] && git clone https://github.com/laurenzberger/retail-data-challenge.git"
      ],
      "execution_count": 0,
      "outputs": []
    },
    {
      "metadata": {
        "id": "SORDmX5S33Mp",
        "colab_type": "code",
        "colab": {
          "base_uri": "https://localhost:8080/",
          "height": 35
        },
        "outputId": "e4cceda7-1388-4dbf-ae1a-56c702a914f6"
      },
      "cell_type": "code",
      "source": [
        "cd /content/retail-data-challenge\n"
      ],
      "execution_count": 20,
      "outputs": [
        {
          "output_type": "stream",
          "text": [
            "/content/retail-data-challenge\n"
          ],
          "name": "stdout"
        }
      ]
    },
    {
      "metadata": {
        "id": "CP9aW6CH5Y4_",
        "colab_type": "code",
        "colab": {
          "base_uri": "https://localhost:8080/",
          "height": 121
        },
        "outputId": "0908dada-12c0-4d93-f878-51ae8d22a02b"
      },
      "cell_type": "code",
      "source": [
        "!ls -la"
      ],
      "execution_count": 21,
      "outputs": [
        {
          "output_type": "stream",
          "text": [
            "total 20\n",
            "drwxr-xr-x 4 root root 4096 Apr  7 08:21 .\n",
            "drwxr-xr-x 1 root root 4096 Apr  7 08:21 ..\n",
            "drwxr-xr-x 2 root root 4096 Apr  7 08:21 data\n",
            "drwxr-xr-x 8 root root 4096 Apr  7 08:21 .git\n",
            "-rw-r--r-- 1 root root   23 Apr  7 08:21 README.md\n"
          ],
          "name": "stdout"
        }
      ]
    },
    {
      "metadata": {
        "id": "J_qcVHcI5pns",
        "colab_type": "code",
        "colab": {
          "base_uri": "https://localhost:8080/",
          "height": 35
        },
        "outputId": "0186dec5-f1f0-43e4-d6cf-2d4d38564a7a"
      },
      "cell_type": "code",
      "source": [
        "!pwd"
      ],
      "execution_count": 22,
      "outputs": [
        {
          "output_type": "stream",
          "text": [
            "/content/retail-data-challenge\n"
          ],
          "name": "stdout"
        }
      ]
    },
    {
      "metadata": {
        "id": "qH4p_AL858s4",
        "colab_type": "code",
        "colab": {
          "base_uri": "https://localhost:8080/",
          "height": 225
        },
        "outputId": "5410111b-4a38-4f96-f513-6dbd9215e179"
      },
      "cell_type": "code",
      "source": [
        "!git pull"
      ],
      "execution_count": 23,
      "outputs": [
        {
          "output_type": "stream",
          "text": [
            "remote: Enumerating objects: 4, done.\u001b[K\n",
            "remote: Counting objects:  25% (1/4)   \u001b[K\rremote: Counting objects:  50% (2/4)   \u001b[K\rremote: Counting objects:  75% (3/4)   \u001b[K\rremote: Counting objects: 100% (4/4)   \u001b[K\rremote: Counting objects: 100% (4/4), done.\u001b[K\n",
            "remote: Compressing objects:  33% (1/3)   \u001b[K\rremote: Compressing objects:  66% (2/3)   \u001b[K\rremote: Compressing objects: 100% (3/3)   \u001b[K\rremote: Compressing objects: 100% (3/3), done.\u001b[K\n",
            "remote: Total 3 (delta 0), reused 0 (delta 0), pack-reused 0\u001b[K\n",
            "Unpacking objects:  33% (1/3)   \rUnpacking objects:  66% (2/3)   \rUnpacking objects: 100% (3/3)   \rUnpacking objects: 100% (3/3), done.\n",
            "From https://github.com/laurenzberger/retail-data-challenge\n",
            "   f73e4c8..421d4dd  master     -> origin/master\n",
            "Updating f73e4c8..421d4dd\n",
            "Fast-forward\n",
            " RetailRegressionChallenge.ipynb | 101 \u001b[32m++++++++++++++++++++++++++++++++++++++++\u001b[m\n",
            " 1 file changed, 101 insertions(+)\n",
            " create mode 100644 RetailRegressionChallenge.ipynb\n"
          ],
          "name": "stdout"
        }
      ]
    },
    {
      "metadata": {
        "id": "ipO6XpRqC_9b",
        "colab_type": "text"
      },
      "cell_type": "markdown",
      "source": [
        "## Imports"
      ]
    },
    {
      "metadata": {
        "id": "kC91tWPrDCAP",
        "colab_type": "code",
        "colab": {}
      },
      "cell_type": "code",
      "source": [
        "import pandas as pd"
      ],
      "execution_count": 0,
      "outputs": []
    },
    {
      "metadata": {
        "id": "oCoVe1By_8Zw",
        "colab_type": "text"
      },
      "cell_type": "markdown",
      "source": [
        "## Read in Dataset"
      ]
    },
    {
      "metadata": {
        "id": "GYiLM_X7DLQ_",
        "colab_type": "code",
        "colab": {
          "base_uri": "https://localhost:8080/",
          "height": 139
        },
        "outputId": "bc23a66e-8d6e-4617-87cc-2bacabc2f9ca"
      },
      "cell_type": "code",
      "source": [
        "ls -la ./data/\n"
      ],
      "execution_count": 28,
      "outputs": [
        {
          "output_type": "stream",
          "text": [
            "total 3888\n",
            "drwxr-xr-x 2 root root    4096 Apr  7 08:21 \u001b[0m\u001b[01;34m.\u001b[0m/\n",
            "drwxr-xr-x 4 root root    4096 Apr  7 08:26 \u001b[01;34m..\u001b[0m/\n",
            "-rw-r--r-- 1 root root  317611 Apr  7 08:21 sample_submission.csv\n",
            "-rw-r--r-- 1 root root   45010 Apr  7 08:21 store.csv\n",
            "-rw-r--r-- 1 root root 1099661 Apr  7 08:21 test_v2.csv\n",
            "-rw-r--r-- 1 root root 2504622 Apr  7 08:21 train_v2.csv\n"
          ],
          "name": "stdout"
        }
      ]
    },
    {
      "metadata": {
        "id": "eyeEkiy16FRS",
        "colab_type": "code",
        "colab": {}
      },
      "cell_type": "code",
      "source": [
        "train = pd.read_csv(\"./data/train_v2.csv\", parse_dates=['Date'], low_memory=False)\n",
        "test  = pd.read_csv(\"./data/test_v2.csv\",  parse_dates=['Date'], low_memory=False)\n",
        "store = pd.read_csv(\"./data/store.csv\")"
      ],
      "execution_count": 0,
      "outputs": []
    },
    {
      "metadata": {
        "id": "d1Y3Fm7uDju8",
        "colab_type": "code",
        "colab": {
          "base_uri": "https://localhost:8080/",
          "height": 202
        },
        "outputId": "c53c32d5-167f-4970-cd04-6e11a046a78c"
      },
      "cell_type": "code",
      "source": [
        "train.head(5)"
      ],
      "execution_count": 33,
      "outputs": [
        {
          "output_type": "execute_result",
          "data": {
            "text/html": [
              "<div>\n",
              "<style scoped>\n",
              "    .dataframe tbody tr th:only-of-type {\n",
              "        vertical-align: middle;\n",
              "    }\n",
              "\n",
              "    .dataframe tbody tr th {\n",
              "        vertical-align: top;\n",
              "    }\n",
              "\n",
              "    .dataframe thead th {\n",
              "        text-align: right;\n",
              "    }\n",
              "</style>\n",
              "<table border=\"1\" class=\"dataframe\">\n",
              "  <thead>\n",
              "    <tr style=\"text-align: right;\">\n",
              "      <th></th>\n",
              "      <th>Store</th>\n",
              "      <th>DayOfWeek</th>\n",
              "      <th>Date</th>\n",
              "      <th>Sales</th>\n",
              "      <th>Customers</th>\n",
              "      <th>Open</th>\n",
              "      <th>Promo</th>\n",
              "      <th>StateHoliday</th>\n",
              "      <th>SchoolHoliday</th>\n",
              "    </tr>\n",
              "  </thead>\n",
              "  <tbody>\n",
              "    <tr>\n",
              "      <th>0</th>\n",
              "      <td>1</td>\n",
              "      <td>5</td>\n",
              "      <td>2015-01-30</td>\n",
              "      <td>5577</td>\n",
              "      <td>616</td>\n",
              "      <td>1</td>\n",
              "      <td>1</td>\n",
              "      <td>0</td>\n",
              "      <td>0</td>\n",
              "    </tr>\n",
              "    <tr>\n",
              "      <th>1</th>\n",
              "      <td>2</td>\n",
              "      <td>5</td>\n",
              "      <td>2015-01-30</td>\n",
              "      <td>5919</td>\n",
              "      <td>624</td>\n",
              "      <td>1</td>\n",
              "      <td>1</td>\n",
              "      <td>0</td>\n",
              "      <td>0</td>\n",
              "    </tr>\n",
              "    <tr>\n",
              "      <th>2</th>\n",
              "      <td>3</td>\n",
              "      <td>5</td>\n",
              "      <td>2015-01-30</td>\n",
              "      <td>6911</td>\n",
              "      <td>678</td>\n",
              "      <td>1</td>\n",
              "      <td>1</td>\n",
              "      <td>0</td>\n",
              "      <td>0</td>\n",
              "    </tr>\n",
              "    <tr>\n",
              "      <th>3</th>\n",
              "      <td>4</td>\n",
              "      <td>5</td>\n",
              "      <td>2015-01-30</td>\n",
              "      <td>13307</td>\n",
              "      <td>1632</td>\n",
              "      <td>1</td>\n",
              "      <td>1</td>\n",
              "      <td>0</td>\n",
              "      <td>0</td>\n",
              "    </tr>\n",
              "    <tr>\n",
              "      <th>4</th>\n",
              "      <td>5</td>\n",
              "      <td>5</td>\n",
              "      <td>2015-01-30</td>\n",
              "      <td>5640</td>\n",
              "      <td>617</td>\n",
              "      <td>1</td>\n",
              "      <td>1</td>\n",
              "      <td>0</td>\n",
              "      <td>0</td>\n",
              "    </tr>\n",
              "  </tbody>\n",
              "</table>\n",
              "</div>"
            ],
            "text/plain": [
              "   Store  DayOfWeek       Date  Sales  Customers  Open  Promo StateHoliday  \\\n",
              "0      1          5 2015-01-30   5577        616     1      1            0   \n",
              "1      2          5 2015-01-30   5919        624     1      1            0   \n",
              "2      3          5 2015-01-30   6911        678     1      1            0   \n",
              "3      4          5 2015-01-30  13307       1632     1      1            0   \n",
              "4      5          5 2015-01-30   5640        617     1      1            0   \n",
              "\n",
              "   SchoolHoliday  \n",
              "0              0  \n",
              "1              0  \n",
              "2              0  \n",
              "3              0  \n",
              "4              0  "
            ]
          },
          "metadata": {
            "tags": []
          },
          "execution_count": 33
        }
      ]
    }
  ]
}