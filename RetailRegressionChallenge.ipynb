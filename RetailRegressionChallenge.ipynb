{
  "nbformat": 4,
  "nbformat_minor": 0,
  "metadata": {
    "colab": {
      "name": "RetailRegressionChallenge.ipynb",
      "version": "0.3.2",
      "provenance": [],
      "include_colab_link": true
    },
    "kernelspec": {
      "name": "python3",
      "display_name": "Python 3"
    }
  },
  "cells": [
    {
      "cell_type": "markdown",
      "metadata": {
        "id": "view-in-github",
        "colab_type": "text"
      },
      "source": [
        "<a href=\"https://colab.research.google.com/github/laurenzberger/retail-data-challenge/blob/master/RetailRegressionChallenge.ipynb\" target=\"_parent\"><img src=\"https://colab.research.google.com/assets/colab-badge.svg\" alt=\"Open In Colab\"/></a>"
      ]
    },
    {
      "metadata": {
        "id": "OKFJqGglL31F",
        "colab_type": "text"
      },
      "cell_type": "markdown",
      "source": [
        "# Kaggle Rossmann Challenge Prep\n",
        "\n",
        "## Dataset \n",
        "\n",
        "https://www.kaggle.com/c/rossmann-store-sales/data"
      ]
    },
    {
      "metadata": {
        "id": "bHBXcaZh3cpW",
        "colab_type": "code",
        "colab": {
          "base_uri": "https://localhost:8080/",
          "height": 35
        },
        "outputId": "3d9d9d13-bff0-4967-ac69-82a8bb6b5c94"
      },
      "cell_type": "code",
      "source": [
        "#download dataset from git repo if not there yet\n",
        "%%bash\n",
        "[ ! -d \"/content/retail-data-challenge\" ] && git clone https://github.com/laurenzberger/retail-data-challenge.git"
      ],
      "execution_count": 1,
      "outputs": [
        {
          "output_type": "stream",
          "text": [
            "Cloning into 'retail-data-challenge'...\n"
          ],
          "name": "stderr"
        }
      ]
    },
    {
      "metadata": {
        "id": "SORDmX5S33Mp",
        "colab_type": "code",
        "colab": {
          "base_uri": "https://localhost:8080/",
          "height": 121
        },
        "outputId": "cd09c075-2378-4ed2-80eb-60aae8a17df5"
      },
      "cell_type": "code",
      "source": [
        "%%bash\n",
        "cd /content/retail-data-challenge\n",
        "ls -la"
      ],
      "execution_count": 4,
      "outputs": [
        {
          "output_type": "stream",
          "text": [
            "total 20\n",
            "drwxr-xr-x 4 root root 4096 Apr  7 08:21 .\n",
            "drwxr-xr-x 1 root root 4096 Apr  7 08:21 ..\n",
            "drwxr-xr-x 2 root root 4096 Apr  7 08:21 data\n",
            "drwxr-xr-x 8 root root 4096 Apr  7 08:21 .git\n",
            "-rw-r--r-- 1 root root   23 Apr  7 08:21 README.md\n"
          ],
          "name": "stdout"
        }
      ]
    }
  ]
}